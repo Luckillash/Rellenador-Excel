{
 "cells": [
  {
   "cell_type": "code",
   "execution_count": 37,
   "id": "825974f6-cb7c-47ad-a073-2263fb6c21f7",
   "metadata": {},
   "outputs": [],
   "source": [
    "import pandas as pd"
   ]
  },
  {
   "cell_type": "code",
   "execution_count": 38,
   "id": "3298d6e6-feb3-4e78-a946-516a01ad1028",
   "metadata": {},
   "outputs": [],
   "source": [
    "Google_df = pd.read_excel(\"./assets/Google.xlsx\")\n",
    "\n",
    "Buk_df = pd.read_excel(\"./assets/Buk.xlsx\")"
   ]
  },
  {
   "cell_type": "code",
   "execution_count": 39,
   "id": "eb084916-e220-4f81-8820-4e2e675b8bae",
   "metadata": {},
   "outputs": [],
   "source": [
    "# Transformar los centro de costo a string\n",
    "Buk_df['Trabajo - Centro de Costo'] = Buk_df['Trabajo - Centro de Costo'].astype(\"string\")\n",
    "\n",
    "Google_df['Cost Center'] = Google_df['Cost Center'].astype(\"string\")"
   ]
  },
  {
   "cell_type": "code",
   "execution_count": 40,
   "id": "1837b92b-9018-4029-8cb5-5e6eccfa6824",
   "metadata": {},
   "outputs": [],
   "source": [
    "# Transformar los rut a string\n",
    "Buk_df['Empleado - RUT'] = Buk_df['Empleado - RUT'].astype(\"string\")\n",
    "\n",
    "Google_df['Employee ID'] = Google_df['Employee ID'].astype(\"string\")"
   ]
  },
  {
   "cell_type": "code",
   "execution_count": 41,
   "id": "229d03f0-0935-4e64-993f-8a080973f44f",
   "metadata": {},
   "outputs": [],
   "source": [
    "# Dataframe que contiene valores de rut vacio.\n",
    "missing_rut = Google_df[Google_df['Employee ID'].isnull()]"
   ]
  },
  {
   "cell_type": "code",
   "execution_count": 43,
   "id": "bec8c1b3-d4af-42f2-af10-24d31d487f1f",
   "metadata": {},
   "outputs": [
    {
     "data": {
      "text/plain": [
       "102"
      ]
     },
     "metadata": {},
     "output_type": "display_data"
    },
    {
     "data": {
      "text/plain": [
       "1764    Luis Alberto\n",
       "Name: Empleado - Nombre, dtype: object"
      ]
     },
     "metadata": {},
     "output_type": "display_data"
    },
    {
     "data": {
      "text/plain": [
       "1764    Marquez\n",
       "Name: Empleado - Apellido, dtype: object"
      ]
     },
     "metadata": {},
     "output_type": "display_data"
    },
    {
     "data": {
      "text/plain": [
       "602"
      ]
     },
     "metadata": {},
     "output_type": "display_data"
    },
    {
     "data": {
      "text/plain": [
       "2333    Guillermo Andrés\n",
       "Name: Empleado - Nombre, dtype: object"
      ]
     },
     "metadata": {},
     "output_type": "display_data"
    },
    {
     "data": {
      "text/plain": [
       "2333    Palma\n",
       "Name: Empleado - Apellido, dtype: object"
      ]
     },
     "metadata": {},
     "output_type": "display_data"
    },
    {
     "data": {
      "text/plain": [
       "947"
      ]
     },
     "metadata": {},
     "output_type": "display_data"
    },
    {
     "data": {
      "text/plain": [
       "410    Manuel Hernan\n",
       "Name: Empleado - Nombre, dtype: object"
      ]
     },
     "metadata": {},
     "output_type": "display_data"
    },
    {
     "data": {
      "text/plain": [
       "410    Sepulveda\n",
       "Name: Empleado - Apellido, dtype: object"
      ]
     },
     "metadata": {},
     "output_type": "display_data"
    },
    {
     "data": {
      "text/plain": [
       "1220"
      ]
     },
     "metadata": {},
     "output_type": "display_data"
    },
    {
     "data": {
      "text/plain": [
       "1862    Jocelyn Nicol\n",
       "Name: Empleado - Nombre, dtype: object"
      ]
     },
     "metadata": {},
     "output_type": "display_data"
    },
    {
     "data": {
      "text/plain": [
       "1862    Guenuman\n",
       "Name: Empleado - Apellido, dtype: object"
      ]
     },
     "metadata": {},
     "output_type": "display_data"
    },
    {
     "data": {
      "text/plain": [
       "1243"
      ]
     },
     "metadata": {},
     "output_type": "display_data"
    },
    {
     "data": {
      "text/plain": [
       "3813    Reinaldo Alberto\n",
       "Name: Empleado - Nombre, dtype: object"
      ]
     },
     "metadata": {},
     "output_type": "display_data"
    },
    {
     "data": {
      "text/plain": [
       "3813    Guzman\n",
       "Name: Empleado - Apellido, dtype: object"
      ]
     },
     "metadata": {},
     "output_type": "display_data"
    },
    {
     "data": {
      "text/plain": [
       "1395"
      ]
     },
     "metadata": {},
     "output_type": "display_data"
    },
    {
     "data": {
      "text/plain": [
       "571    Tania Valeska\n",
       "Name: Empleado - Nombre, dtype: object"
      ]
     },
     "metadata": {},
     "output_type": "display_data"
    },
    {
     "data": {
      "text/plain": [
       "571    Gonzalez\n",
       "Name: Empleado - Apellido, dtype: object"
      ]
     },
     "metadata": {},
     "output_type": "display_data"
    }
   ],
   "source": [
    "# # Recorro cada fila con rut faltante.\n",
    "for index, row in Google_df.iterrows():\n",
    "\n",
    "    match = Buk_df[(Buk_df['Empleado - Email'] == row['Email Address [Required]']) & (Buk_df['Trabajo - Centro de Costo'] == row['Cost Center'])]\n",
    "\n",
    "    # match = Buk_df[Buk_df['Empleado - Email'] == row['Email Address [Required]'] & Buk_df['Trabajo - Centro de Costo'] == row['Cost Center']]\n",
    "\n",
    "    # match_cost_center =  Buk_df[Buk_df['Trabajo - Centro de Costo'] == row['Cost Center']]\n",
    "\n",
    "    if not match.empty and pd.isna(Google_df.at[index, 'Employee ID']):\n",
    "\n",
    "        # Google_df.at[index, 'Employee ID'] = match_email.iloc[0]['Empleado - RUT']"
   ]
  },
  {
   "cell_type": "code",
   "execution_count": 213,
   "id": "ba0ac0e8-e950-4b7d-8fbf-8ec3f3feb761",
   "metadata": {},
   "outputs": [],
   "source": [
    "Google_df.to_excel('./assets/GoogleActualizado.xlsx', index=False)  # index=False para no escribir los índices"
   ]
  }
 ],
 "metadata": {
  "kernelspec": {
   "display_name": "Python 3 (ipykernel)",
   "language": "python",
   "name": "python3"
  },
  "language_info": {
   "codemirror_mode": {
    "name": "ipython",
    "version": 3
   },
   "file_extension": ".py",
   "mimetype": "text/x-python",
   "name": "python",
   "nbconvert_exporter": "python",
   "pygments_lexer": "ipython3",
   "version": "3.12.0"
  }
 },
 "nbformat": 4,
 "nbformat_minor": 5
}
